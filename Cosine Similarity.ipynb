{
 "cells": [
  {
   "cell_type": "markdown",
   "metadata": {},
   "source": [
    "# Cosine Similarity"
   ]
  },
  {
   "cell_type": "code",
   "execution_count": 72,
   "metadata": {},
   "outputs": [],
   "source": [
    "import numpy as np\n",
    "import matplotlib.pyplot as plt\n",
    "import math as ma\n",
    "import sklearn"
   ]
  },
  {
   "cell_type": "markdown",
   "metadata": {},
   "source": [
    "# Two vectors, $a$ and $b$ represent documents $a$ and $b$\n",
    "- They represent the term frequency of the entire vocabulary of documents. 0 for that word not appearing in the document, and a postive int for how many times that word appears in each document"
   ]
  },
  {
   "cell_type": "code",
   "execution_count": 73,
   "metadata": {},
   "outputs": [],
   "source": [
    "#v = ['fairy', 'princess', 'king'...]\n",
    "a = [1,0,0,1,6,3,0,0,1,0]\n",
    "b = [0,1,2,0,0,3,0,4,1,5]"
   ]
  },
  {
   "cell_type": "markdown",
   "metadata": {},
   "source": [
    "# $\\Sigma_{i=1}^{len(d)} a[i] * b[i]$\n",
    "\n",
    "or\n",
    "\n",
    "# $\\langle a, b \\rangle$\n",
    "\n",
    "or\n",
    "\n",
    "# $a \\cdot b$\n",
    "\n",
    "or\n",
    "\n",
    "# $a^\\top b$"
   ]
  },
  {
   "cell_type": "code",
   "execution_count": 74,
   "metadata": {},
   "outputs": [
    {
     "data": {
      "text/plain": [
       "10"
      ]
     },
     "execution_count": 74,
     "metadata": {},
     "output_type": "execute_result"
    }
   ],
   "source": [
    "def similarity(a,b):\n",
    "    \"\"\"\n",
    "    Inner product of two vectors\n",
    "    \"\"\"\n",
    "    similarity = 0\n",
    "    \n",
    "    #Element wise\n",
    "    for i in range(len(a)):\n",
    "        similarity += a[i] * b[i]\n",
    "        \n",
    "    return similarity\n",
    "\n",
    "similarity(a,b)"
   ]
  },
  {
   "cell_type": "markdown",
   "metadata": {},
   "source": [
    "# $\\cos\\theta = \\Sigma_{i=1}^{len(d)} \\frac{a[i] * b[i]}{\\sqrt{a[i]^2} \\sqrt{b[i]^2}}$\n",
    "\n",
    "or \n",
    "\n",
    "# $\\cos\\theta = \\frac{a^\\top b}{\\left\\lVert a \\right\\rVert \\left\\lVert b \\right\\rVert}$"
   ]
  },
  {
   "cell_type": "code",
   "execution_count": 75,
   "metadata": {},
   "outputs": [
    {
     "data": {
      "text/plain": [
       "0.1928791874526149"
      ]
     },
     "execution_count": 75,
     "metadata": {},
     "output_type": "execute_result"
    }
   ],
   "source": [
    "def cosine_similarity(a,b):\n",
    "    \"\"\"\n",
    "    Normalized Inner product of the two vectors\n",
    "    \"\"\"\n",
    "    #Element wise similarity\n",
    "    similarity = 0\n",
    "    for i in range(len(a)):\n",
    "        similarity += a[i] * b[i]\n",
    "        \n",
    "    #Maginitude of a\n",
    "    norm_a = 0\n",
    "    for i in range(len(a)):\n",
    "        norm_a += a[i]**2\n",
    "    norm_a = ma.sqrt(norm_a)\n",
    "    \n",
    "    #Magintude of b\n",
    "    norm_b = 0\n",
    "    for i in range(len(a)):\n",
    "        norm_b += b[i]**2\n",
    "    norm_b = ma.sqrt(norm_b)\n",
    "    \n",
    "    cosine_similarity = similarity / (norm_a * norm_b)\n",
    "    \n",
    "    return cosine_similarity\n",
    "\n",
    "cosine_similarity(a,b)\n",
    "    "
   ]
  },
  {
   "cell_type": "markdown",
   "metadata": {},
   "source": [
    "# Similarity is simply the inner product of the vectors"
   ]
  },
  {
   "cell_type": "code",
   "execution_count": 76,
   "metadata": {},
   "outputs": [
    {
     "name": "stdout",
     "output_type": "stream",
     "text": [
      "10\n",
      "10\n"
     ]
    }
   ],
   "source": [
    "print(np.inner(a,b))\n",
    "print(similarity(a,b))"
   ]
  },
  {
   "cell_type": "markdown",
   "metadata": {},
   "source": [
    "# Cosine Similarity is the normalized inner product of the vectors"
   ]
  },
  {
   "cell_type": "code",
   "execution_count": 77,
   "metadata": {},
   "outputs": [
    {
     "name": "stdout",
     "output_type": "stream",
     "text": [
      "0.1928791874526149\n"
     ]
    }
   ],
   "source": [
    "print(np.inner(a,b)/(np.linalg.norm(a)*np.linalg.norm(b)))"
   ]
  },
  {
   "cell_type": "code",
   "execution_count": 78,
   "metadata": {},
   "outputs": [
    {
     "name": "stdout",
     "output_type": "stream",
     "text": [
      "[[1.         0.19287919]\n",
      " [0.19287919 1.        ]]\n"
     ]
    }
   ],
   "source": [
    "import sklearn\n",
    "print(sklearn.metrics.pairwise.cosine_similarity([a,b]))"
   ]
  },
  {
   "cell_type": "code",
   "execution_count": null,
   "metadata": {},
   "outputs": [],
   "source": []
  },
  {
   "cell_type": "code",
   "execution_count": null,
   "metadata": {},
   "outputs": [],
   "source": []
  },
  {
   "cell_type": "code",
   "execution_count": null,
   "metadata": {},
   "outputs": [],
   "source": []
  },
  {
   "cell_type": "code",
   "execution_count": null,
   "metadata": {},
   "outputs": [],
   "source": []
  },
  {
   "cell_type": "code",
   "execution_count": null,
   "metadata": {},
   "outputs": [],
   "source": []
  }
 ],
 "metadata": {
  "kernelspec": {
   "display_name": "Python 3",
   "language": "python",
   "name": "python3"
  },
  "language_info": {
   "codemirror_mode": {
    "name": "ipython",
    "version": 3
   },
   "file_extension": ".py",
   "mimetype": "text/x-python",
   "name": "python",
   "nbconvert_exporter": "python",
   "pygments_lexer": "ipython3",
   "version": "3.6.4"
  }
 },
 "nbformat": 4,
 "nbformat_minor": 2
}
