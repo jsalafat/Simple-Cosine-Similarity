{
 "cells": [
  {
   "cell_type": "markdown",
   "metadata": {},
   "source": [
    "# Cosine Similarity"
   ]
  },
  {
   "cell_type": "code",
   "execution_count": 1,
   "metadata": {},
   "outputs": [],
   "source": [
    "import numpy as np\n",
    "import matplotlib.pyplot as plt\n",
    "import math as ma\n",
    "import sklearn"
   ]
  },
  {
   "cell_type": "markdown",
   "metadata": {},
   "source": [
    "### Two vectors, $a$ and $b$ represent documents $a$ and $b$\n",
    "- They represent the term frequency of the entire vocabulary of documents. 0 for that word not appearing in the document, and a postive int for how many times that word appears in each document"
   ]
  },
  {
   "cell_type": "code",
   "execution_count": 2,
   "metadata": {},
   "outputs": [],
   "source": [
    "#v = ['fairy', 'princess', 'king'...]\n",
    "a = [1,0,0,1,6,3,0,0,1,0]\n",
    "b = [0,1,2,0,0,3,0,4,1,5]"
   ]
  },
  {
   "cell_type": "markdown",
   "metadata": {},
   "source": [
    "### $\\Sigma_{i=1}^{len(d)} a[i] * b[i]$\n",
    "\n",
    "or\n",
    "\n",
    "### $\\langle a, b \\rangle$\n",
    "\n",
    "or\n",
    "\n",
    "### $a \\cdot b$\n",
    "\n",
    "or\n",
    "\n",
    "### $a^\\top b$"
   ]
  },
  {
   "cell_type": "code",
   "execution_count": 3,
   "metadata": {},
   "outputs": [
    {
     "data": {
      "text/plain": [
       "10"
      ]
     },
     "execution_count": 3,
     "metadata": {},
     "output_type": "execute_result"
    }
   ],
   "source": [
    "def similarity(a,b):\n",
    "    \"\"\"\n",
    "    Inner product of two vectors\n",
    "    \"\"\"\n",
    "    similarity = 0\n",
    "    \n",
    "    #Element wise\n",
    "    for i in range(len(a)):\n",
    "        similarity += a[i] * b[i]\n",
    "        \n",
    "    return similarity\n",
    "\n",
    "similarity(a,b)"
   ]
  },
  {
   "cell_type": "markdown",
   "metadata": {},
   "source": [
    "### $\\cos\\theta = \\Sigma_{i=1}^{len(d)} \\frac{a[i] * b[i]}{\\sqrt{a[i]^2} \\sqrt{b[i]^2}}$\n",
    "\n",
    "or \n",
    "\n",
    "### $\\cos\\theta = \\frac{a^\\top b}{\\left\\lVert a \\right\\rVert \\left\\lVert b \\right\\rVert}$"
   ]
  },
  {
   "cell_type": "code",
   "execution_count": 8,
   "metadata": {},
   "outputs": [
    {
     "data": {
      "text/plain": [
       "0.1928791874526149"
      ]
     },
     "execution_count": 8,
     "metadata": {},
     "output_type": "execute_result"
    }
   ],
   "source": [
    "def cos_similarity(a,b):\n",
    "    \"\"\"\n",
    "    Normalized Inner product of the two vectors\n",
    "    \"\"\"\n",
    "    #Element wise similarity\n",
    "    similarity = 0\n",
    "    for i in range(len(a)):\n",
    "        similarity += a[i] * b[i]\n",
    "        \n",
    "    #Maginitude of a\n",
    "    norm_a = 0\n",
    "    for i in range(len(a)):\n",
    "        norm_a += a[i]**2\n",
    "    norm_a = ma.sqrt(norm_a)\n",
    "    \n",
    "    #Magintude of b\n",
    "    norm_b = 0\n",
    "    for i in range(len(a)):\n",
    "        norm_b += b[i]**2\n",
    "    norm_b = ma.sqrt(norm_b)\n",
    "    \n",
    "    cosine_similarity = similarity / (norm_a * norm_b)\n",
    "    \n",
    "    return cosine_similarity\n",
    "\n",
    "cos_similarity(a,b)\n",
    "    "
   ]
  },
  {
   "cell_type": "markdown",
   "metadata": {},
   "source": [
    "### Similarity is simply the inner product of the vectors"
   ]
  },
  {
   "cell_type": "code",
   "execution_count": 9,
   "metadata": {},
   "outputs": [
    {
     "name": "stdout",
     "output_type": "stream",
     "text": [
      "10\n",
      "10\n"
     ]
    }
   ],
   "source": [
    "print(np.inner(a,b))\n",
    "print(similarity(a,b))"
   ]
  },
  {
   "cell_type": "markdown",
   "metadata": {},
   "source": [
    "### Cosine Similarity is the normalized inner product of the vectors"
   ]
  },
  {
   "cell_type": "code",
   "execution_count": 10,
   "metadata": {},
   "outputs": [
    {
     "name": "stdout",
     "output_type": "stream",
     "text": [
      "0.1928791874526149\n"
     ]
    }
   ],
   "source": [
    "print(np.inner(a,b)/(np.linalg.norm(a)*np.linalg.norm(b)))"
   ]
  },
  {
   "cell_type": "code",
   "execution_count": 14,
   "metadata": {},
   "outputs": [
    {
     "name": "stdout",
     "output_type": "stream",
     "text": [
      "[[1.         0.19287919]\n",
      " [0.19287919 1.        ]]\n"
     ]
    }
   ],
   "source": [
    "import sklearn\n",
    "print(sklearn.metrics.pairwise.cosine_similarity([a,b]))"
   ]
  },
  {
   "cell_type": "markdown",
   "metadata": {},
   "source": [
    "# Example:\n"
   ]
  },
  {
   "cell_type": "code",
   "execution_count": 28,
   "metadata": {},
   "outputs": [],
   "source": [
    "a = 'Leonhard Euler was a Swiss mathematician, physicist, astronomer, logician and engineer who made important and influential discoveries in many branches of mathematics, such as infinitesimal calculus and graph theory, while also making pioneering contributions to several branches such as topology and analytic number theory. He also introduced much of the modern mathematical terminology and notation, particularly for mathematical analysis, such as the notion of a mathematical function.[3] He is also known for his work in mechanics, fluid dynamics, optics, astronomy and music theory'\n",
    "\n",
    "b = \"Wilhelm Leibniz was a prominent German polymath and philosopher in the history of mathematics and the history of philosophy. His most notable accomplishment was conceiving the ideas of differential and integral calculus, independently of Isaac Newton's contemporaneous developments.[16] Mathematical works have generally favored Leibniz's notation as the conventional expression of calculus. It was only in the 20th century that Leibniz's law of continuity and transcendental law of homogeneity found mathematical implementation (by means of non-standard analysis). He became one of the most prolific inventors in the field of mechanical calculators. While working on adding automatic multiplication and division to Pascal's calculator, he was the first to describe a pinwheel calculator in 1685[17] and invented the Leibniz wheel, used in the arithmometer, the first mass-produced mechanical calculator. He also refined the binary number system, which is the foundation of all digital computers.\""
   ]
  },
  {
   "cell_type": "code",
   "execution_count": 50,
   "metadata": {},
   "outputs": [
    {
     "name": "stdout",
     "output_type": "stream",
     "text": [
      "['16', '1685', '17', '20th', 'accomplishment', 'adding', 'all', 'also', 'analysis', 'analytic', 'and', 'arithmometer', 'as', 'astronomer', 'astronomy', 'automatic', 'became', 'binary', 'branches', 'by', 'calculator', 'calculators', 'calculus', 'century', 'computers', 'conceiving', 'contemporaneous', 'continuity', 'contributions', 'conventional', 'describe', 'developments', 'differential', 'digital', 'discoveries', 'division', 'dynamics', 'engineer', 'euler', 'expression', 'favored', 'field', 'first', 'fluid', 'for', 'found', 'foundation', 'function', 'generally', 'german', 'graph', 'have', 'he', 'his', 'history', 'homogeneity', 'ideas', 'implementation', 'important', 'in', 'independently', 'infinitesimal', 'influential', 'integral', 'introduced', 'invented', 'inventors', 'is', 'isaac', 'it', 'known', 'law', 'leibniz', 'leonhard', 'logician', 'made', 'making', 'many', 'mass', 'mathematical', 'mathematician', 'mathematics', 'means', 'mechanical', 'mechanics', 'modern', 'most', 'much', 'multiplication', 'music', 'newton', 'non', 'notable', 'notation', 'notion', 'number', 'of', 'on', 'one', 'only', 'optics', 'particularly', 'pascal', 'philosopher', 'philosophy', 'physicist', 'pinwheel', 'pioneering', 'polymath', 'produced', 'prolific', 'prominent', 'refined', 'several', 'standard', 'such', 'swiss', 'system', 'terminology', 'that', 'the', 'theory', 'to', 'topology', 'transcendental', 'used', 'was', 'wheel', 'which', 'while', 'who', 'wilhelm', 'work', 'working', 'works']\n"
     ]
    }
   ],
   "source": [
    "from sklearn.feature_extraction.text import CountVectorizer\n",
    "\n",
    "#init vectorizer\n",
    "vectorizer = CountVectorizer()\n",
    "\n",
    "documents_vectorized = vectorizer.fit_transform([a,b])\n",
    "print(vectorizer.get_feature_names())"
   ]
  },
  {
   "cell_type": "code",
   "execution_count": 56,
   "metadata": {},
   "outputs": [
    {
     "name": "stdout",
     "output_type": "stream",
     "text": [
      "Euler: [0 0 0 0 0 0 0 3 1 1 6 0 3 1 1 0 0 0 2 0 0 0 1 0 0 0 0 0 1 0 0 0 0 0 1 0 1\n",
      " 1 1 0 0 0 0 1 2 0 0 1 0 0 1 0 2 1 0 0 0 0 1 2 0 1 1 0 1 0 0 1 0 0 1 0 0 1\n",
      " 1 1 1 1 0 3 1 1 0 0 1 1 0 1 0 1 0 0 0 1 1 1 3 0 0 0 1 1 0 0 0 1 0 1 0 0 0\n",
      " 0 0 1 0 3 1 0 1 0 2 3 1 1 0 0 1 0 0 1 1 0 1 0 0]\n",
      "Leibniz: [ 1  1  1  1  1  1  1  1  1  0  6  1  1  0  0  1  1  1  0  1  3  1  2  1\n",
      "  1  1  1  1  0  1  1  1  1  1  0  1  0  0  0  1  1  1  2  0  0  1  1  0\n",
      "  1  1  0  1  3  1  2  1  1  1  0  5  1  0  0  1  0  1  1  1  1  1  0  2\n",
      "  4  0  0  0  0  0  1  2  0  1  1  2  0  0  2  0  1  0  1  1  1  1  0  1\n",
      " 11  1  1  1  0  0  1  1  1  0  1  0  1  1  1  1  1  0  1  0  0  1  0  1\n",
      " 13  0  2  0  1  1  4  1  1  1  0  1  0  1  1]\n",
      "270\n"
     ]
    }
   ],
   "source": [
    "print('Euler:', documents_vectorized.toarray()[0])\n",
    "print('Leibniz:',documents_vectorized.toarray()[1])\n"
   ]
  },
  {
   "cell_type": "markdown",
   "metadata": {},
   "source": [
    "# Cosine Similarity Between two documents:"
   ]
  },
  {
   "cell_type": "code",
   "execution_count": 57,
   "metadata": {},
   "outputs": [
    {
     "data": {
      "text/plain": [
       "0.48721293531595355"
      ]
     },
     "execution_count": 57,
     "metadata": {},
     "output_type": "execute_result"
    }
   ],
   "source": [
    "cosine_similarity(documents_vectorized.toarray()[0], documents_vectorized.toarray()[1])"
   ]
  },
  {
   "cell_type": "code",
   "execution_count": null,
   "metadata": {},
   "outputs": [],
   "source": []
  }
 ],
 "metadata": {
  "kernelspec": {
   "display_name": "Python 3",
   "language": "python",
   "name": "python3"
  },
  "language_info": {
   "codemirror_mode": {
    "name": "ipython",
    "version": 3
   },
   "file_extension": ".py",
   "mimetype": "text/x-python",
   "name": "python",
   "nbconvert_exporter": "python",
   "pygments_lexer": "ipython3",
   "version": "3.6.4"
  }
 },
 "nbformat": 4,
 "nbformat_minor": 2
}
